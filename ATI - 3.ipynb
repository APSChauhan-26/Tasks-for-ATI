{
 "cells": [
  {
   "cell_type": "code",
   "execution_count": null,
   "id": "dbee0f9d",
   "metadata": {},
   "outputs": [],
   "source": [
    "# Task 3: Natural Language Processing\n",
    "import nltk\n",
    "from nltk.sentiment import SentimentIntensityAnalyzer\n",
    "\n",
    "nltk.download('vader_lexicon')\n",
    "\n",
    "# Example text data\n",
    "texts = [\n",
    "    \"I love machine learning, it's amazing!\",\n",
    "    \"I hate waiting for my code to run.\",\n",
    "    \"This tutorial is pretty good.\"\n",
    "]\n",
    "\n",
    "# Initializing sentiment analyzer\n",
    "sia = SentimentIntensityAnalyzer()\n",
    "\n",
    "# Analyzing each sentence\n",
    "for text in texts:\n",
    "    score = sia.polarity_scores(text)\n",
    "    print(f\"Text: {text}\")\n",
    "    print(f\"Sentiment Scores: {score}\\n\")"
   ]
  }
 ],
 "metadata": {
  "language_info": {
   "name": "python"
  }
 },
 "nbformat": 4,
 "nbformat_minor": 5
}
