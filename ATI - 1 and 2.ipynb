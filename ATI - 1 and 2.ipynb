{
 "cells": [
  {
   "cell_type": "code",
   "execution_count": null,
   "id": "c104a796",
   "metadata": {},
   "outputs": [],
   "source": [
    "# Task 1: Data Preprocessing\n",
    "import pandas as pd\n",
    "from sklearn.preprocessing import StandardScaler, LabelEncoder\n",
    "import seaborn as sns\n",
    "\n",
    "# Loading dataset\n",
    "data = sns.load_dataset('titanic')\n",
    "\n",
    "# Displaying first rows\n",
    "print(\"Original Data:\")\n",
    "print(data.head())\n",
    "\n",
    "# Droping columns with too many missing values\n",
    "data = data.drop(['deck', 'embarked_town', 'alive'], axis=1)\n",
    "\n",
    "# Filling missing values\n",
    "data['age'].fillna(data['age'].median(), inplace=True)\n",
    "data['embarked'].fillna(data['embarked'].mode()[0], inplace=True)\n",
    "\n",
    "# Encoding categorical variables\n",
    "le = LabelEncoder()\n",
    "for col in data.select_dtypes(include=['object', 'category']).columns:\n",
    "    data[col] = le.fit_transform(data[col])\n",
    "\n",
    "# Normalizing numeric features\n",
    "scaler = StandardScaler()\n",
    "num_cols = ['age', 'fare']\n",
    "data[num_cols] = scaler.fit_transform(data[num_cols])\n",
    "\n",
    "print(\"\\nProcessed Data:\")\n",
    "print(data.head())"
   ]
  },
  {
   "cell_type": "code",
   "execution_count": null,
   "id": "f874c767",
   "metadata": {},
   "outputs": [],
   "source": [
    "# Task 2: Machine Learning Model\n",
    "from sklearn.model_selection import train_test_split\n",
    "from sklearn.linear_model import LogisticRegression\n",
    "from sklearn.metrics import accuracy_score, classification_report\n",
    "\n",
    "# Features and target\n",
    "X = data.drop('survived', axis=1)\n",
    "y = data['survived']\n",
    "\n",
    "# Splitting dataset\n",
    "X_train, X_test, y_train, y_test = train_test_split(X, y, test_size=0.2, random_state=42)\n",
    "\n",
    "# Model training\n",
    "model = LogisticRegression(max_iter=1000)\n",
    "model.fit(X_train, y_train)\n",
    "\n",
    "# Predictions\n",
    "y_pred = model.predict(X_test)\n",
    "\n",
    "# Evaluating\n",
    "print(\"\\nModel Accuracy:\", accuracy_score(y_test, y_pred))\n",
    "print(\"\\nClassification Report:\\n\", classification_report(y_test, y_pred))"
   ]
  }
 ],
 "metadata": {
  "language_info": {
   "name": "python"
  }
 },
 "nbformat": 4,
 "nbformat_minor": 5
}
